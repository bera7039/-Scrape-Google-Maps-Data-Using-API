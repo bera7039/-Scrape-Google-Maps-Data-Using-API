{
 "cells": [
  {
   "cell_type": "code",
   "execution_count": 2,
   "id": "7aa86738-7dd5-431b-bd78-3b9bce343722",
   "metadata": {},
   "outputs": [],
   "source": [
    "import requests\n",
    "API_KEY = 'YOUR_API_KEY'\n",
    "LOCATION = '22.5726,88.3639'\n",
    "RADIUS = 1000\n",
    "TYPE = 'restaurant'\n",
    "url= f\"https://maps.googleapis.com/maps/api/place/nearbysearch/json?location={LOCATION}&radius={RADIUS}&type={TYPE}&key={API_KEY}\"\n",
    "response = requests.get(url)\n",
    "data= response.json()\n",
    "for i,place in enumerate(data['results'],1):\n",
    "    name = place.get('name')\n",
    "    address= place.get('vicinity')\n",
    "    rating = p;ace.get('ratings')\n",
    "    print(f\"{i}.{name}\\n address:{address}\\n rating:{rating}\\n\")\n",
    "    "
   ]
  },
  {
   "cell_type": "code",
   "execution_count": null,
   "id": "caa89ba2-d736-4bc3-a6bb-7965d7430416",
   "metadata": {},
   "outputs": [],
   "source": []
  },
  {
   "cell_type": "code",
   "execution_count": null,
   "id": "35abad07-a26f-48e4-b339-ce768b181688",
   "metadata": {},
   "outputs": [],
   "source": []
  }
 ],
 "metadata": {
  "kernelspec": {
   "display_name": "Python 3 (ipykernel)",
   "language": "python",
   "name": "python3"
  },
  "language_info": {
   "codemirror_mode": {
    "name": "ipython",
    "version": 3
   },
   "file_extension": ".py",
   "mimetype": "text/x-python",
   "name": "python",
   "nbconvert_exporter": "python",
   "pygments_lexer": "ipython3",
   "version": "3.13.5"
  }
 },
 "nbformat": 4,
 "nbformat_minor": 5
}
